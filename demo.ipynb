{
 "cells": [
  {
   "cell_type": "code",
   "execution_count": 1,
   "id": "fbafcbee",
   "metadata": {},
   "outputs": [
    {
     "name": "stdout",
     "output_type": "stream",
     "text": [
      "Jupyter environment detected. Enabling Open3D WebVisualizer.\n",
      "[Open3D INFO] WebRTC GUI backend enabled.\n",
      "[Open3D INFO] WebRTCWindowSystem: HTTP handshake server disabled.\n"
     ]
    }
   ],
   "source": [
    "import os\n",
    "import sys\n",
    "import copy\n",
    "import open3d\n",
    "import torch\n",
    "import torch.utils.data\n",
    "import logging\n",
    "import numpy as np\n",
    "from model import PointNet, Decoder, SolveRegistration\n",
    "import se_math.transforms as transforms"
   ]
  },
  {
   "cell_type": "code",
   "execution_count": 2,
   "id": "21d1e7cc",
   "metadata": {},
   "outputs": [],
   "source": [
    "LOGGER = logging.getLogger(__name__)\n",
    "LOGGER.addHandler(logging.NullHandler())"
   ]
  },
  {
   "cell_type": "code",
   "execution_count": 3,
   "id": "dcddb1be",
   "metadata": {},
   "outputs": [],
   "source": [
    "sys.path.insert(0, os.path.abspath(os.path.join(os.getcwd(), os.pardir)))"
   ]
  },
  {
   "cell_type": "code",
   "execution_count": 4,
   "id": "f82d3ce1",
   "metadata": {},
   "outputs": [],
   "source": [
    "# visualize the point clouds\n",
    "def draw_registration_result(source, target, transformation):\n",
    "    source_temp = copy.deepcopy(source)\n",
    "    target_temp = copy.deepcopy(target)\n",
    "    source_temp.paint_uniform_color([0 , 0, 1])\n",
    "    target_temp.paint_uniform_color([1, 0, 0])\n",
    "    open3d.io.write_point_cloud(\"source_pre.ply\", source_temp)\n",
    "    open3d.visualization.draw_geometries([source_temp, target_temp])\n",
    "    source_temp.transform(transformation)\n",
    "    open3d.io.write_point_cloud(\"source.ply\", source_temp)\n",
    "    open3d.io.write_point_cloud(\"target.ply\", target_temp)\n",
    "    open3d.visualization.draw_geometries([source_temp, target_temp])"
   ]
  },
  {
   "cell_type": "code",
   "execution_count": 5,
   "id": "3d2ddba8",
   "metadata": {},
   "outputs": [],
   "source": [
    "class Demo:\n",
    "    def __init__(self):\n",
    "        self.dim_k = 1024\n",
    "        self.num_points = 2048\n",
    "        self.max_iter = 100  # max iteration time for IC algorithm\n",
    "        self._loss_type = 1  # see. self.compute_loss()\n",
    "\n",
    "    def create_model(self):\n",
    "        # Encoder network: extract feature for every point. Nx1024\n",
    "        ptnet = PointNet(dim_k=self.dim_k)\n",
    "        # Decoder network: decode the feature into points, not used during the evaluation\n",
    "        decoder = Decoder(num_points=self.num_points)\n",
    "        # feature-metric ergistration (fmr) algorithm: estimate the transformation T\n",
    "        fmr_solver = SolveRegistration(ptnet, decoder, isTest=True)\n",
    "        return fmr_solver\n",
    "\n",
    "    def evaluate(self, solver, p0, p1, device):\n",
    "        solver.eval()\n",
    "        with torch.no_grad():\n",
    "            p0 = torch.tensor(p0,dtype=torch.float).to(device)  # template (1, N, 3)\n",
    "            p1 = torch.tensor(p1,dtype=torch.float).to(device)  # source (1, M, 3)\n",
    "            solver.estimate_t(p0, p1, self.max_iter)\n",
    "\n",
    "            est_g = solver.g  # (1, 4, 4)\n",
    "            g_hat = est_g.cpu().contiguous().view(4, 4)  # --> [1, 4, 4]\n",
    "\n",
    "            return g_hat"
   ]
  },
  {
   "cell_type": "code",
   "execution_count": 6,
   "id": "e8802d83",
   "metadata": {},
   "outputs": [],
   "source": [
    "def main(p0, p1, p0_pcd, p1_pcd):\n",
    "    fmr = Demo()\n",
    "    model = fmr.create_model()\n",
    "    pretrained_path = \"./result/fmr_model_7scene.pth\"\n",
    "    model.load_state_dict(torch.load(pretrained_path, map_location='cpu'))\n",
    "\n",
    "    device = \"cpu\"\n",
    "    model.to(device)\n",
    "    T_est = fmr.evaluate(model, p0, p1, device)\n",
    "\n",
    "    draw_registration_result(p1_pcd, p0_pcd, T_est)"
   ]
  },
  {
   "cell_type": "code",
   "execution_count": 7,
   "id": "f8ae356f",
   "metadata": {},
   "outputs": [],
   "source": [
    "if __name__ == '__main__':\n",
    "    path0 = \"./samples/test.obj\"\n",
    "    path1 = \"./samples/test1_1.obj\"\n",
    "\n",
    "    mesh1 = open3d.io.read_triangle_mesh(path0)\n",
    "    p0_src = mesh1.sample_points_uniformly(number_of_points=2048)\n",
    "    #p0_src = open3d.io.read_point_cloud(path0)\n",
    "    downpcd0 = p0_src.voxel_down_sample(voxel_size=0.01)\n",
    "    p0 = np.asarray(downpcd0.points)\n",
    "    p0 = np.expand_dims(p0,0)\n",
    "\n",
    "    \n",
    "    # generate random rotation sample\n",
    "    trans = transforms.RandomTransformSE3(0.8, True)\n",
    "    p0_src_tensor = torch.tensor((np.asarray(p0_src.points)),dtype=torch.float)\n",
    "    p0_tensor_transformed = trans(p0_src_tensor)\n",
    "    p1_src = p0_tensor_transformed.cpu().numpy()\n",
    "    pcd = open3d.geometry.PointCloud()\n",
    "    pcd.points = open3d.utility.Vector3dVector(p1_src)\n",
    "    #open3d.io.write_point_cloud(path1, pcd)\n",
    "    \n",
    "\n",
    "    #p1 = open3d.io.read_point_cloud(path1)\n",
    "    p1 = pcd\n",
    "    downpcd1 = p1.voxel_down_sample(voxel_size=0.01)\n",
    "    p1 = np.asarray(downpcd1.points)\n",
    "    p1 = np.expand_dims(p1, 0)\n",
    "    main(p0, p1, downpcd0, downpcd1)"
   ]
  },
  {
   "cell_type": "code",
   "execution_count": 8,
   "id": "dca2975f",
   "metadata": {},
   "outputs": [],
   "source": [
    "if __name__ == '__main__':\n",
    "    path0 = \"./samples/test.obj\"\n",
    "    path1 = \"./samples/test2.obj\"\n",
    "\n",
    "    mesh1 = open3d.io.read_triangle_mesh(path0)\n",
    "    p0_src = mesh1.sample_points_uniformly(number_of_points=2048)\n",
    "    #p0_src = open3d.io.read_point_cloud(path0)\n",
    "    downpcd0 = p0_src.voxel_down_sample(voxel_size=0.01)\n",
    "    p0 = np.asarray(downpcd0.points)\n",
    "    p0 = np.expand_dims(p0,0)\n",
    "\n",
    "    \n",
    "#     # generate random rotation sample\n",
    "#     trans = transforms.RandomTransformSE3(0.8, True)\n",
    "#     p0_src_tensor = torch.tensor((np.asarray(p0_src.points)),dtype=torch.float)\n",
    "#     p0_tensor_transformed = trans(p0_src_tensor)\n",
    "#     p1_src = p0_tensor_transformed.cpu().numpy()\n",
    "#     pcd = open3d.geometry.PointCloud()\n",
    "#     pcd.points = open3d.utility.Vector3dVector(p1_src)\n",
    "#     #open3d.io.write_point_cloud(path1, pcd)\n",
    "    \n",
    "\n",
    "    mesh2 = open3d.io.read_triangle_mesh(path1)\n",
    "    p1 = mesh2.sample_points_uniformly(number_of_points=2048)\n",
    "    downpcd1 = p1.voxel_down_sample(voxel_size=0.01)\n",
    "    p1 = np.asarray(downpcd1.points)\n",
    "    p1 = np.expand_dims(p1, 0)\n",
    "    main(p0, p1, downpcd0, downpcd1)"
   ]
  },
  {
   "cell_type": "code",
   "execution_count": null,
   "id": "27946757",
   "metadata": {},
   "outputs": [],
   "source": []
  }
 ],
 "metadata": {
  "kernelspec": {
   "display_name": "Python 3 (ipykernel)",
   "language": "python",
   "name": "python3"
  },
  "language_info": {
   "codemirror_mode": {
    "name": "ipython",
    "version": 3
   },
   "file_extension": ".py",
   "mimetype": "text/x-python",
   "name": "python",
   "nbconvert_exporter": "python",
   "pygments_lexer": "ipython3",
   "version": "3.8.11"
  }
 },
 "nbformat": 4,
 "nbformat_minor": 5
}
